{
  "nbformat": 4,
  "nbformat_minor": 0,
  "metadata": {
    "colab": {
      "name": "Untitled1.ipynb",
      "provenance": []
    },
    "kernelspec": {
      "name": "python3",
      "display_name": "Python 3"
    },
    "language_info": {
      "name": "python"
    }
  },
  "cells": [
    {
      "cell_type": "code",
      "metadata": {
        "colab": {
          "base_uri": "https://localhost:8080/"
        },
        "id": "SaFASsbOaoHl",
        "outputId": "52dbd759-1aae-4bd8-a93f-6fd79ec23eee"
      },
      "source": [
        "A = np.array([1,0])\n",
        "B = np.array([0,2])\n",
        "C = np.array([2,1])\n",
        "#Tranformation matrix\n",
        "a_11 = float(input(\"angle made by transformed x-axis with the given x-axis: \"))\n",
        "a_12 = float(input(\"angle made by transfomed x-axis with the given y-axis: \"))\n",
        "a_21 = float(input(\"angle made by transfomed y-axis with the given x-axis: \"))\n",
        "a_22 = float(input(\"angle made by transfomed y-axis with the given y-axis: \"))\n",
        "\n",
        "T = np.array([[math.cos(a_11*math.pi/180), math.cos(a_12*math.pi/180)], [math.cos(a_21*math.pi/180), math.cos(a_22*math.pi/180)]])\n",
        "\n",
        "AT = T@A #transformed vector\n",
        "BT = T@B #transformed vector\n",
        "CT = T@C #transformed vector\n",
        "\n",
        "d12=round(np.linalg.norm(AT-BT),3)\n",
        "d23=round(np.linalg.norm(BT-CT),3)\n",
        "d31=round(np.linalg.norm(CT-AT),3)\n",
        "\n",
        "print(d12)\n",
        "\n",
        "if (d12==d23==d31):\n",
        "  print(\"it is equilateral triangle\")"
      ],
      "execution_count": 7,
      "outputs": [
        {
          "output_type": "stream",
          "name": "stdout",
          "text": [
            "angle made by transformed x-axis with the given x-axis: 0\n",
            "angle made by transfomed x-axis with the given y-axis: 60\n",
            "angle made by transfomed y-axis with the given x-axis: 90\n",
            "angle made by transfomed y-axis with the given y-axis: 30\n",
            "1.732\n",
            "it is equilateral triangle\n"
          ]
        }
      ]
    }
  ]
}