{
  "nbformat": 4,
  "nbformat_minor": 0,
  "metadata": {
    "colab": {
      "name": "Untitled0.ipynb",
      "provenance": []
    },
    "kernelspec": {
      "name": "python3",
      "display_name": "Python 3"
    },
    "language_info": {
      "name": "python"
    }
  },
  "cells": [
    {
      "cell_type": "code",
      "metadata": {
        "colab": {
          "base_uri": "https://localhost:8080/"
        },
        "id": "h1KW-Txu_kkN",
        "outputId": "8d8902e6-c918-4ee6-c859-d51bb534ca2c"
      },
      "source": [
        "import numpy as np\n",
        "import math\n",
        "def distancce(AT,BT):\n",
        "   P = np.subtract(AT,BT)\n",
        "   dist=np.linalg.norm(P)\n",
        "   return round(dist,3)\n",
        "3\n",
        "A = np.array([1,0])\n",
        "B = np.array([0,2])\n",
        "C = np.array([2,1])\n",
        "#Tranformation matrix\n",
        "a_11 = float(input(\"angle made by transformed x-axis with the given x-axis: \"))\n",
        "a_12 = float(input(\"angle made by transfomed x-axis with the given y-axis: \"))\n",
        "a_21 = float(input(\"angle made by transfomed y-axis with the given x-axis: \"))\n",
        "a_22 = float(input(\"angle made by transfomed y-axis with the given y-axis: \"))\n",
        "\n",
        "T = np.array([[math.cos(a_11*math.pi/180), math.cos(a_12*math.pi/180)], [math.cos(a_21*math.pi/180), math.cos(a_22*math.pi/180)]])\n",
        "9\n",
        "AT = np.dot(T,A) #transformed vector\n",
        "BT = np.dot(T,B) #transformed vector\n",
        "CT = np.dot(T,C) #transformed vector\n",
        "\n",
        "d12=distancce(AT,BT)\n",
        "d23=distancce(BT,CT)\n",
        "d31=distancce(CT,AT)\n",
        "\n",
        "\n",
        "if (d12==d23==d31):\n",
        "  print(\"it is equilateral triangle\")"
      ],
      "execution_count": 23,
      "outputs": [
        {
          "output_type": "stream",
          "name": "stdout",
          "text": [
            "angle made by transformed x-axis with the given x-axis: 0\n",
            "angle made by transfomed x-axis with the given y-axis: 60\n",
            "angle made by transfomed y-axis with the given x-axis: 90\n",
            "angle made by transfomed y-axis with the given y-axis: 30\n",
            "it is equilateral triangle\n"
          ]
        }
      ]
    }
  ]
}