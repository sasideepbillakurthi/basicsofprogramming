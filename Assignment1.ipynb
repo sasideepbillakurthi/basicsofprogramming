{
  "nbformat": 4,
  "nbformat_minor": 0,
  "metadata": {
    "colab": {
      "name": "Assignment1.ipynb",
      "provenance": [],
      "collapsed_sections": []
    },
    "kernelspec": {
      "name": "python3",
      "display_name": "Python 3"
    },
    "language_info": {
      "name": "python"
    }
  },
  "cells": [
    {
      "cell_type": "code",
      "metadata": {
        "id": "R_aOc8NdX-aZ",
        "colab": {
          "base_uri": "https://localhost:8080/"
        },
        "outputId": "20cf7531-4638-4742-8f4b-b87177d1f44b"
      },
      "source": [
        "from sympy import *\n",
        "\n",
        "def distance(p1,p2):\n",
        "    dist=(simplify(sqrt((p1[0]-p2[0])**2+(p1[1]-p2[1])**2)))\n",
        "    return dist\n",
        "    \n",
        "a=symbols(\"a\")\n",
        "# a=None\n",
        "\n",
        "p1=[0,a]\n",
        "p2=[0,2*a]\n",
        "p3=[2*a,a]\n",
        "\n",
        "dist1=distance(p1,p2)\n",
        "dist2=distance(p2,p3)\n",
        "dist3=distance(p3,p1)\n",
        "\n",
        "if(dist1==dist2==dist3):\n",
        "    print(\"The three points form equilatereal triangle\")\n",
        "else:\n",
        "    print(\"The three points cannot form equilateral triangle\")"
      ],
      "execution_count": 1,
      "outputs": [
        {
          "output_type": "stream",
          "name": "stdout",
          "text": [
            "The three points cannot form equilateral triangle\n"
          ]
        }
      ]
    }
  ]
}